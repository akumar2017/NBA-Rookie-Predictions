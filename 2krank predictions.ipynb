{
 "cells": [
  {
   "cell_type": "code",
   "execution_count": 100,
   "metadata": {},
   "outputs": [],
   "source": [
    "import numpy as np\n",
    "import pandas\n",
    "import matplotlib.pyplot as plt\n",
    "from sklearn.linear_model import LinearRegression\n",
    "from sklearn.linear_model import Ridge\n",
    "from sklearn.linear_model import Lasso\n",
    "from sklearn.svm import SVR\n",
    "from sklearn.pipeline import make_pipeline\n",
    "from sklearn.preprocessing import PolynomialFeatures\n",
    "from sklearn.preprocessing import StandardScaler\n",
    "from sklearn.model_selection import train_test_split\n",
    "from sklearn.metrics import mean_squared_error \n",
    "from sklearn.model_selection import KFold\n",
    "from sklearn.model_selection import cross_val_score\n",
    "from sklearn.model_selection import cross_val_predict"
   ]
  },
  {
   "cell_type": "code",
   "execution_count": 2,
   "metadata": {},
   "outputs": [],
   "source": [
    "file = \"dataset_preprocessedv3.csv\"\n",
    "df = pandas.read_csv(file)"
   ]
  },
  {
   "cell_type": "code",
   "execution_count": 117,
   "metadata": {},
   "outputs": [],
   "source": [
    "x = df.iloc[:, 3:20]\n",
    "y = df[['2kRank']]\n",
    "x = x.to_numpy()\n",
    "sc_x = StandardScaler()\n",
    "x = sc_x.fit_transform(x)\n",
    "y = np.ravel(y.to_numpy())\n",
    "x_train, x_test, y_train, y_test = train_test_split(x,y,test_size=0.2,random_state=1)\n",
    "x_train, x_val, y_train, y_val = train_test_split(x_train, y_train, test_size=0.2,random_state=1)"
   ]
  },
  {
   "cell_type": "markdown",
   "metadata": {},
   "source": [
    "# Linear Regression"
   ]
  },
  {
   "cell_type": "code",
   "execution_count": 33,
   "metadata": {},
   "outputs": [
    {
     "name": "stdout",
     "output_type": "stream",
     "text": [
      "Training Error 28.199230293867387\n",
      "Test Error 34.58640405585485\n"
     ]
    },
    {
     "data": {
      "image/png": "[encoded data removed]",
      "text/plain": [
       "<Figure size 432x288 with 1 Axes>"
      ]
     },
     "metadata": {
      "needs_background": "light"
     },
     "output_type": "display_data"
    }
   ],
   "source": [
    "lr = LinearRegression()\n",
    "lr.fit(x_train,y_train)\n",
    "y_pred_test = lr.predict(x_test)\n",
    "y_pred_train = lr.predict(x_train)\n",
    "print(\"Training Error\",mean_squared_error(y_train,y_pred_train))\n",
    "plt.scatter(y_pred_test,y_test, color = 'blue')\n",
    "plt.xlabel('Prediction')\n",
    "plt.ylabel('True Value')\n",
    "print(\"Test Error\", mean_squared_error(y_test,y_pred_test))"
   ]
  },
  {
   "cell_type": "markdown",
   "metadata": {},
   "source": [
    "# Polynomial Regression"
   ]
  },
  {
   "cell_type": "code",
   "execution_count": 129,
   "metadata": {},
   "outputs": [
    {
     "name": "stderr",
     "output_type": "stream",
     "text": [
      "c:\\users\\akash\\appdata\\local\\programs\\python\\python37-32\\lib\\site-packages\\sklearn\\linear_model\\coordinate_descent.py:492: ConvergenceWarning: Objective did not converge. You might want to increase the number of iterations. Fitting data with very small alpha may cause precision problems.\n",
      "  ConvergenceWarning)\n",
      "c:\\users\\akash\\appdata\\local\\programs\\python\\python37-32\\lib\\site-packages\\sklearn\\linear_model\\coordinate_descent.py:492: ConvergenceWarning: Objective did not converge. You might want to increase the number of iterations. Fitting data with very small alpha may cause precision problems.\n",
      "  ConvergenceWarning)\n",
      "c:\\users\\akash\\appdata\\local\\programs\\python\\python37-32\\lib\\site-packages\\sklearn\\linear_model\\coordinate_descent.py:492: ConvergenceWarning: Objective did not converge. You might want to increase the number of iterations. Fitting data with very small alpha may cause precision problems.\n",
      "  ConvergenceWarning)\n",
      "c:\\users\\akash\\appdata\\local\\programs\\python\\python37-32\\lib\\site-packages\\sklearn\\linear_model\\coordinate_descent.py:492: ConvergenceWarning: Objective did not converge. You might want to increase the number of iterations. Fitting data with very small alpha may cause precision problems.\n",
      "  ConvergenceWarning)\n"
     ]
    },
    {
     "name": "stdout",
     "output_type": "stream",
     "text": [
      "Best Param: 0.91\n",
      "Training Error: 34.119593588981594\n",
      "Test Error: 32.184957090701445\n"
     ]
    },
    {
     "data": {
      "image/png": "[encoded data removed]",
      "text/plain": [
       "<Figure size 432x288 with 1 Axes>"
      ]
     },
     "metadata": {
      "needs_background": "light"
     },
     "output_type": "display_data"
    }
   ],
   "source": [
    "minva = 500\n",
    "for i in range(1,101,1):\n",
    "    est = make_pipeline(PolynomialFeatures(2), Lasso(i/100))\n",
    "    est.fit(x_train, y_train)\n",
    "    va = mean_squared_error(y_val, est.predict(x_val))\n",
    "    if va < minva:\n",
    "        y_pred_train_best = est.predict(x_train)\n",
    "        y_pred_test_best = est.predict(x_test)\n",
    "        bestparam = i/100\n",
    "        minva = va\n",
    "        minte = mean_squared_error(y_test, est.predict(x_test))\n",
    "        mintr = mean_squared_error(y_train, est.predict(x_train))\n",
    "print(\"Best Param:\", bestparam)\n",
    "print(\"Training Error:\", mintr)\n",
    "scat = plt.scatter(y_pred_test_best,y_test, color = 'blue')\n",
    "plt.axis((70,90,70,90))\n",
    "plt.xlabel('Prediction')\n",
    "plt.ylabel('True Value')\n",
    "print(\"Test Error:\", minte)"
   ]
  },
  {
   "cell_type": "code",
   "execution_count": 130,
   "metadata": {},
   "outputs": [
    {
     "name": "stdout",
     "output_type": "stream",
     "text": [
      "Best Param: 500.01\n",
      "Training Error: 29.73317346841174\n",
      "Test Error: 32.2568555801009\n"
     ]
    },
    {
     "data": {
      "image/png": "[encoded data removed]",
      "text/plain": [
       "<Figure size 432x288 with 1 Axes>"
      ]
     },
     "metadata": {
      "needs_background": "light"
     },
     "output_type": "display_data"
    }
   ],
   "source": [
    "minva = 500\n",
    "for i in range(1,50005,5):\n",
    "    est = make_pipeline(PolynomialFeatures(2), Ridge(i/100))\n",
    "    est.fit(x_train, y_train)\n",
    "    va = mean_squared_error(y_val, est.predict(x_val))\n",
    "    if va < minva:\n",
    "        y_pred_train_best = est.predict(x_train)\n",
    "        y_pred_test_best = est.predict(x_test)\n",
    "        bestparam = i/100\n",
    "        minva = va\n",
    "        minte = mean_squared_error(y_test, est.predict(x_test))\n",
    "        mintr = mean_squared_error(y_train, est.predict(x_train))\n",
    "print(\"Best Param:\", bestparam)\n",
    "print(\"Training Error:\", mintr)\n",
    "scat = plt.scatter(y_pred_test_best,y_test, color = 'blue')\n",
    "plt.axis((70,90,70,90))\n",
    "plt.xlabel('Prediction')\n",
    "plt.ylabel('True Value')\n",
    "print(\"Test Error:\", minte)"
   ]
  },
  {
   "cell_type": "code",
   "execution_count": 89,
   "metadata": {},
   "outputs": [
    {
     "data": {
      "text/plain": [
       "LinearRegression(copy_X=True, fit_intercept=True, n_jobs=None,\n",
       "         normalize=False)"
      ]
     },
     "execution_count": 89,
     "metadata": {},
     "output_type": "execute_result"
    }
   ],
   "source": [
    "poly_reg = PolynomialFeatures(degree = 2)\n",
    "X_poly = poly_reg.fit_transform(x_train)\n",
    "poly_reg.fit(X_poly, y_train)\n",
    "lr2 = LinearRegression()\n",
    "lr2.fit(X_poly, y_train)"
   ]
  },
  {
   "cell_type": "code",
   "execution_count": 125,
   "metadata": {},
   "outputs": [
    {
     "ename": "NotFittedError",
     "evalue": "This LinearRegression instance is not fitted yet. Call 'fit' with appropriate arguments before using this method.",
     "output_type": "error",
     "traceback": [
      "\u001b[1;31m---------------------------------------------------------------------------\u001b[0m",
      "\u001b[1;31mNotFittedError\u001b[0m                            Traceback (most recent call last)",
      "\u001b[1;32m<ipython-input-125-2610626c4a93>\u001b[0m in \u001b[0;36m<module>\u001b[1;34m\u001b[0m\n\u001b[1;32m----> 1\u001b[1;33m \u001b[0my_pred_test\u001b[0m \u001b[1;33m=\u001b[0m \u001b[0mlr2\u001b[0m\u001b[1;33m.\u001b[0m\u001b[0mpredict\u001b[0m\u001b[1;33m(\u001b[0m\u001b[0mpoly_reg\u001b[0m\u001b[1;33m.\u001b[0m\u001b[0mfit_transform\u001b[0m\u001b[1;33m(\u001b[0m\u001b[0mx_test\u001b[0m\u001b[1;33m)\u001b[0m\u001b[1;33m)\u001b[0m\u001b[1;33m\u001b[0m\u001b[1;33m\u001b[0m\u001b[0m\n\u001b[0m\u001b[0;32m      2\u001b[0m \u001b[0my_pred_train\u001b[0m \u001b[1;33m=\u001b[0m \u001b[0mlr2\u001b[0m\u001b[1;33m.\u001b[0m\u001b[0mpredict\u001b[0m\u001b[1;33m(\u001b[0m\u001b[0mpoly_reg\u001b[0m\u001b[1;33m.\u001b[0m\u001b[0mfit_transform\u001b[0m\u001b[1;33m(\u001b[0m\u001b[0mx_train\u001b[0m\u001b[1;33m)\u001b[0m\u001b[1;33m)\u001b[0m\u001b[1;33m\u001b[0m\u001b[1;33m\u001b[0m\u001b[0m\n\u001b[0;32m      3\u001b[0m \u001b[0mprint\u001b[0m\u001b[1;33m(\u001b[0m\u001b[1;34m\"Training Error\"\u001b[0m\u001b[1;33m,\u001b[0m\u001b[0mmean_squared_error\u001b[0m\u001b[1;33m(\u001b[0m\u001b[0my_train\u001b[0m\u001b[1;33m,\u001b[0m\u001b[0my_pred_train\u001b[0m\u001b[1;33m)\u001b[0m\u001b[1;33m)\u001b[0m\u001b[1;33m\u001b[0m\u001b[1;33m\u001b[0m\u001b[0m\n\u001b[0;32m      4\u001b[0m \u001b[0mplt\u001b[0m\u001b[1;33m.\u001b[0m\u001b[0mscatter\u001b[0m\u001b[1;33m(\u001b[0m\u001b[0my_pred_test\u001b[0m\u001b[1;33m,\u001b[0m\u001b[0my_test\u001b[0m\u001b[1;33m,\u001b[0m \u001b[0mcolor\u001b[0m \u001b[1;33m=\u001b[0m \u001b[1;34m'blue'\u001b[0m\u001b[1;33m)\u001b[0m\u001b[1;33m\u001b[0m\u001b[1;33m\u001b[0m\u001b[0m\n\u001b[0;32m      5\u001b[0m \u001b[0mplt\u001b[0m\u001b[1;33m.\u001b[0m\u001b[0maxis\u001b[0m\u001b[1;33m(\u001b[0m\u001b[1;33m(\u001b[0m\u001b[1;36m70\u001b[0m\u001b[1;33m,\u001b[0m\u001b[1;36m90\u001b[0m\u001b[1;33m,\u001b[0m\u001b[1;36m70\u001b[0m\u001b[1;33m,\u001b[0m\u001b[1;36m90\u001b[0m\u001b[1;33m)\u001b[0m\u001b[1;33m)\u001b[0m\u001b[1;33m\u001b[0m\u001b[1;33m\u001b[0m\u001b[0m\n",
      "\u001b[1;32mc:\\users\\akash\\appdata\\local\\programs\\python\\python37-32\\lib\\site-packages\\sklearn\\linear_model\\base.py\u001b[0m in \u001b[0;36mpredict\u001b[1;34m(self, X)\u001b[0m\n\u001b[0;32m    211\u001b[0m             \u001b[0mReturns\u001b[0m \u001b[0mpredicted\u001b[0m \u001b[0mvalues\u001b[0m\u001b[1;33m.\u001b[0m\u001b[1;33m\u001b[0m\u001b[1;33m\u001b[0m\u001b[0m\n\u001b[0;32m    212\u001b[0m         \"\"\"\n\u001b[1;32m--> 213\u001b[1;33m         \u001b[1;32mreturn\u001b[0m \u001b[0mself\u001b[0m\u001b[1;33m.\u001b[0m\u001b[0m_decision_function\u001b[0m\u001b[1;33m(\u001b[0m\u001b[0mX\u001b[0m\u001b[1;33m)\u001b[0m\u001b[1;33m\u001b[0m\u001b[1;33m\u001b[0m\u001b[0m\n\u001b[0m\u001b[0;32m    214\u001b[0m \u001b[1;33m\u001b[0m\u001b[0m\n\u001b[0;32m    215\u001b[0m     \u001b[0m_preprocess_data\u001b[0m \u001b[1;33m=\u001b[0m \u001b[0mstaticmethod\u001b[0m\u001b[1;33m(\u001b[0m\u001b[0m_preprocess_data\u001b[0m\u001b[1;33m)\u001b[0m\u001b[1;33m\u001b[0m\u001b[1;33m\u001b[0m\u001b[0m\n",
      "\u001b[1;32mc:\\users\\akash\\appdata\\local\\programs\\python\\python37-32\\lib\\site-packages\\sklearn\\linear_model\\base.py\u001b[0m in \u001b[0;36m_decision_function\u001b[1;34m(self, X)\u001b[0m\n\u001b[0;32m    192\u001b[0m \u001b[1;33m\u001b[0m\u001b[0m\n\u001b[0;32m    193\u001b[0m     \u001b[1;32mdef\u001b[0m \u001b[0m_decision_function\u001b[0m\u001b[1;33m(\u001b[0m\u001b[0mself\u001b[0m\u001b[1;33m,\u001b[0m \u001b[0mX\u001b[0m\u001b[1;33m)\u001b[0m\u001b[1;33m:\u001b[0m\u001b[1;33m\u001b[0m\u001b[1;33m\u001b[0m\u001b[0m\n\u001b[1;32m--> 194\u001b[1;33m         \u001b[0mcheck_is_fitted\u001b[0m\u001b[1;33m(\u001b[0m\u001b[0mself\u001b[0m\u001b[1;33m,\u001b[0m \u001b[1;34m\"coef_\"\u001b[0m\u001b[1;33m)\u001b[0m\u001b[1;33m\u001b[0m\u001b[1;33m\u001b[0m\u001b[0m\n\u001b[0m\u001b[0;32m    195\u001b[0m \u001b[1;33m\u001b[0m\u001b[0m\n\u001b[0;32m    196\u001b[0m         \u001b[0mX\u001b[0m \u001b[1;33m=\u001b[0m \u001b[0mcheck_array\u001b[0m\u001b[1;33m(\u001b[0m\u001b[0mX\u001b[0m\u001b[1;33m,\u001b[0m \u001b[0maccept_sparse\u001b[0m\u001b[1;33m=\u001b[0m\u001b[1;33m[\u001b[0m\u001b[1;34m'csr'\u001b[0m\u001b[1;33m,\u001b[0m \u001b[1;34m'csc'\u001b[0m\u001b[1;33m,\u001b[0m \u001b[1;34m'coo'\u001b[0m\u001b[1;33m]\u001b[0m\u001b[1;33m)\u001b[0m\u001b[1;33m\u001b[0m\u001b[1;33m\u001b[0m\u001b[0m\n",
      "\u001b[1;32mc:\\users\\akash\\appdata\\local\\programs\\python\\python37-32\\lib\\site-packages\\sklearn\\utils\\validation.py\u001b[0m in \u001b[0;36mcheck_is_fitted\u001b[1;34m(estimator, attributes, msg, all_or_any)\u001b[0m\n\u001b[0;32m    949\u001b[0m \u001b[1;33m\u001b[0m\u001b[0m\n\u001b[0;32m    950\u001b[0m     \u001b[1;32mif\u001b[0m \u001b[1;32mnot\u001b[0m \u001b[0mall_or_any\u001b[0m\u001b[1;33m(\u001b[0m\u001b[1;33m[\u001b[0m\u001b[0mhasattr\u001b[0m\u001b[1;33m(\u001b[0m\u001b[0mestimator\u001b[0m\u001b[1;33m,\u001b[0m \u001b[0mattr\u001b[0m\u001b[1;33m)\u001b[0m \u001b[1;32mfor\u001b[0m \u001b[0mattr\u001b[0m \u001b[1;32min\u001b[0m \u001b[0mattributes\u001b[0m\u001b[1;33m]\u001b[0m\u001b[1;33m)\u001b[0m\u001b[1;33m:\u001b[0m\u001b[1;33m\u001b[0m\u001b[1;33m\u001b[0m\u001b[0m\n\u001b[1;32m--> 951\u001b[1;33m         \u001b[1;32mraise\u001b[0m \u001b[0mNotFittedError\u001b[0m\u001b[1;33m(\u001b[0m\u001b[0mmsg\u001b[0m \u001b[1;33m%\u001b[0m \u001b[1;33m{\u001b[0m\u001b[1;34m'name'\u001b[0m\u001b[1;33m:\u001b[0m \u001b[0mtype\u001b[0m\u001b[1;33m(\u001b[0m\u001b[0mestimator\u001b[0m\u001b[1;33m)\u001b[0m\u001b[1;33m.\u001b[0m\u001b[0m__name__\u001b[0m\u001b[1;33m}\u001b[0m\u001b[1;33m)\u001b[0m\u001b[1;33m\u001b[0m\u001b[1;33m\u001b[0m\u001b[0m\n\u001b[0m\u001b[0;32m    952\u001b[0m \u001b[1;33m\u001b[0m\u001b[0m\n\u001b[0;32m    953\u001b[0m \u001b[1;33m\u001b[0m\u001b[0m\n",
      "\u001b[1;31mNotFittedError\u001b[0m: This LinearRegression instance is not fitted yet. Call 'fit' with appropriate arguments before using this method."
     ]
    }
   ],
   "source": [
    "y_pred_test = lr2.predict(poly_reg.fit_transform(x_test))\n",
    "y_pred_train = lr2.predict(poly_reg.fit_transform(x_train))\n",
    "print(\"Training Error\",mean_squared_error(y_train,y_pred_train))\n",
    "plt.scatter(y_pred_test,y_test, color = 'blue')\n",
    "\n",
    "plt.xlabel('Prediction')\n",
    "plt.ylabel('True Value')\n",
    "print(\"Test Error\", mean_squared_error(y_test,y_pred_test))"
   ]
  },
  {
   "cell_type": "markdown",
   "metadata": {},
   "source": [
    "# SVR"
   ]
  },
  {
   "cell_type": "code",
   "execution_count": 36,
   "metadata": {},
   "outputs": [
    {
     "name": "stdout",
     "output_type": "stream",
     "text": [
      "Training Error 32.611729946863576\n",
      "Test Error 36.643202451779516\n"
     ]
    },
    {
     "name": "stderr",
     "output_type": "stream",
     "text": [
      "c:\\users\\akash\\appdata\\local\\programs\\python\\python37-32\\lib\\site-packages\\sklearn\\svm\\base.py:196: FutureWarning: The default value of gamma will change from 'auto' to 'scale' in version 0.22 to account better for unscaled features. Set gamma explicitly to 'auto' or 'scale' to avoid this warning.\n",
      "  \"avoid this warning.\", FutureWarning)\n"
     ]
    },
    {
     "data": {
      "image/png": "[encoded data removed]",
      "text/plain": [
       "<Figure size 432x288 with 1 Axes>"
      ]
     },
     "metadata": {
      "needs_background": "light"
     },
     "output_type": "display_data"
    }
   ],
   "source": [
    "regressor = SVR(kernel='rbf')\n",
    "regressor.fit(x_train,y_train)\n",
    "y_pred_test = regressor.predict(x_test)\n",
    "y_pred_train = regressor.predict(x_train)\n",
    "print(\"Training Error\",mean_squared_error(y_train,y_pred_train))\n",
    "plt.scatter(y_pred_test,y_test, color = 'blue')\n",
    "plt.xlabel('Prediction')\n",
    "plt.ylabel('True Value')\n",
    "print(\"Test Error\", mean_squared_error(y_test,y_pred_test))"
   ]
  },
  {
   "cell_type": "markdown",
   "metadata": {},
   "source": [
    "# Ridge Regression"
   ]
  },
  {
   "cell_type": "code",
   "execution_count": 47,
   "metadata": {},
   "outputs": [
    {
     "name": "stdout",
     "output_type": "stream",
     "text": [
      "34.73810789442962 37.02446474926872 500.0\n",
      "[74.33033782 78.80460704 75.69388131 76.88150301 77.7178359  78.57175118\n",
      " 76.79744848 76.20405094 76.31921454 75.84195755 76.3006067  76.53119965\n",
      " 76.72229831 76.1050042  77.67210857 80.92554085 77.21482856 76.25507701\n",
      " 75.86686427 76.37439735 81.14677596 76.4537446  78.59384967 74.57841096\n",
      " 75.42488667 76.80248484 75.86563581 74.91550235 76.95278228 77.53329317\n",
      " 74.5523676  74.41918653 77.2662353  75.11417429 76.91044624 76.54342891\n",
      " 77.69852645 76.97928841 76.99094648]\n"
     ]
    }
   ],
   "source": [
    "kf = KFold(n_splits=5,random_state=3,shuffle=True)\n",
    "kf.get_n_splits(x)\n",
    "bestalph = -1\n",
    "for i in range(0,50005,5):\n",
    "    minte = 100\n",
    "    te = 0\n",
    "    tr = 0\n",
    "    for train_index, test_index in kf.split(x):\n",
    "        #print(\"TRAIN:\", train_index, \"TEST:\", test_index)\n",
    "        x_train, x_test = x[train_index], x[test_index]\n",
    "        y_train, y_test = y[train_index], y[test_index]\n",
    "\n",
    "\n",
    "        rr = Ridge(alpha=i/100)\n",
    "        rr.fit(x_train, y_train)\n",
    "        y_pred_test = rr.predict(x_test)\n",
    "        y_pred_train = rr.predict(x_train)\n",
    "        #print(i/100)\n",
    "        #print(\"Training Error\",mean_squared_error(y_train,y_pred_train))\n",
    "        #plt.scatter(y_pred_test,y_test, color = 'blue')\n",
    "        #plt.xlabel('Prediction')\n",
    "        #plt.ylabel('True Value')\n",
    "        #print(\"Test Error\", mean_squared_error(y_test,y_pred_test))\n",
    "        tr += mean_squared_error(y_train,y_pred_train)\n",
    "        te += mean_squared_error(y_test,y_pred_test)\n",
    "    tr = tr/5\n",
    "    te = te/5\n",
    "    if te < minte:\n",
    "        mintr = tr\n",
    "        minte = te\n",
    "        #print(bestalph)\n",
    "        bestalph = i/100\n",
    "print(tr,minte,bestalph)\n",
    "print(y_pred_test)"
   ]
  },
  {
   "cell_type": "code",
   "execution_count": 82,
   "metadata": {
    "scrolled": true
   },
   "outputs": [],
   "source": [
    "bestalph = -1\n",
    "minva = 100\n",
    "for i in range(0,50005,5):\n",
    "    te = 0\n",
    "    tr = 0\n",
    "    rr = Ridge(alpha=i/100)\n",
    "    rr.fit(x_train, y_train)\n",
    "    y_pred_test = rr.predict(x_test)\n",
    "    y_pred_train = rr.predict(x_train)\n",
    "    y_pred_val = rr.predict(x_val)\n",
    "    #print(i/100)\n",
    "    #print(\"Training Error\",mean_squared_error(y_train,y_pred_train))\n",
    "    #plt.scatter(y_pred_test,y_test, color = 'blue')\n",
    "    #plt.xlabel('Prediction')\n",
    "    #plt.ylabel('True Value')\n",
    "    #print(\"Test Error\", mean_squared_error(y_test,y_pred_test))\n",
    "    tr = mean_squared_error(y_train,y_pred_train)\n",
    "    te = mean_squared_error(y_test,y_pred_test)\n",
    "    va = mean_squared_error(y_val,y_pred_val)\n",
    "    if va < minva:\n",
    "        y_pred_test_best = y_pred_test\n",
    "        y_pred_train_best = y_pred_train\n",
    "        minva = va\n",
    "        mintr = tr\n",
    "        minte = te\n",
    "        bestalph = i/100"
   ]
  },
  {
   "cell_type": "code",
   "execution_count": 84,
   "metadata": {
    "scrolled": true
   },
   "outputs": [
    {
     "name": "stdout",
     "output_type": "stream",
     "text": [
      "Best Lambda for Ridge Regression: 29.25\n",
      "Training Error 32.03015666884525\n",
      "Test Error 32.092214578006505\n"
     ]
    },
    {
     "data": {
      "image/png": "[encoded data removed]",
      "text/plain": [
       "<Figure size 432x288 with 1 Axes>"
      ]
     },
     "metadata": {
      "needs_background": "light"
     },
     "output_type": "display_data"
    }
   ],
   "source": [
    "print(\"Best Lambda for Ridge Regression:\",bestalph)\n",
    "print(\"Training Error\",mean_squared_error(y_train,y_pred_train_best))\n",
    "scat = plt.scatter(y_pred_test_best,y_test, color = 'blue')\n",
    "plt.axis((70,90,70,90))\n",
    "plt.xlabel('Prediction')\n",
    "plt.ylabel('True Value')\n",
    "print(\"Test Error\", mean_squared_error(y_test,y_pred_test_best))"
   ]
  },
  {
   "cell_type": "markdown",
   "metadata": {},
   "source": [
    "# Lasso Regression"
   ]
  },
  {
   "cell_type": "code",
   "execution_count": 41,
   "metadata": {},
   "outputs": [
    {
     "name": "stderr",
     "output_type": "stream",
     "text": [
      "c:\\users\\akash\\appdata\\local\\programs\\python\\python37-32\\lib\\site-packages\\ipykernel_launcher.py:15: UserWarning: With alpha=0, this algorithm does not converge well. You are advised to use the LinearRegression estimator\n",
      "  from ipykernel import kernelapp as app\n",
      "c:\\users\\akash\\appdata\\local\\programs\\python\\python37-32\\lib\\site-packages\\sklearn\\linear_model\\coordinate_descent.py:478: UserWarning: Coordinate descent with no regularization may lead to unexpected results and is discouraged.\n",
      "  positive)\n",
      "c:\\users\\akash\\appdata\\local\\programs\\python\\python37-32\\lib\\site-packages\\sklearn\\linear_model\\coordinate_descent.py:492: ConvergenceWarning: Objective did not converge. You might want to increase the number of iterations. Fitting data with very small alpha may cause precision problems.\n",
      "  ConvergenceWarning)\n",
      "c:\\users\\akash\\appdata\\local\\programs\\python\\python37-32\\lib\\site-packages\\ipykernel_launcher.py:15: UserWarning: With alpha=0, this algorithm does not converge well. You are advised to use the LinearRegression estimator\n",
      "  from ipykernel import kernelapp as app\n",
      "c:\\users\\akash\\appdata\\local\\programs\\python\\python37-32\\lib\\site-packages\\sklearn\\linear_model\\coordinate_descent.py:478: UserWarning: Coordinate descent with no regularization may lead to unexpected results and is discouraged.\n",
      "  positive)\n",
      "c:\\users\\akash\\appdata\\local\\programs\\python\\python37-32\\lib\\site-packages\\sklearn\\linear_model\\coordinate_descent.py:492: ConvergenceWarning: Objective did not converge. You might want to increase the number of iterations. Fitting data with very small alpha may cause precision problems.\n",
      "  ConvergenceWarning)\n",
      "c:\\users\\akash\\appdata\\local\\programs\\python\\python37-32\\lib\\site-packages\\ipykernel_launcher.py:15: UserWarning: With alpha=0, this algorithm does not converge well. You are advised to use the LinearRegression estimator\n",
      "  from ipykernel import kernelapp as app\n",
      "c:\\users\\akash\\appdata\\local\\programs\\python\\python37-32\\lib\\site-packages\\sklearn\\linear_model\\coordinate_descent.py:478: UserWarning: Coordinate descent with no regularization may lead to unexpected results and is discouraged.\n",
      "  positive)\n",
      "c:\\users\\akash\\appdata\\local\\programs\\python\\python37-32\\lib\\site-packages\\sklearn\\linear_model\\coordinate_descent.py:492: ConvergenceWarning: Objective did not converge. You might want to increase the number of iterations. Fitting data with very small alpha may cause precision problems.\n",
      "  ConvergenceWarning)\n"
     ]
    },
    {
     "name": "stdout",
     "output_type": "stream",
     "text": [
      "41.11096646942801 43.57116370808679 100.0\n",
      "[77.59230769 77.59230769 77.59230769 77.59230769 77.59230769 77.59230769\n",
      " 77.59230769 77.59230769 77.59230769 77.59230769 77.59230769 77.59230769\n",
      " 77.59230769 77.59230769 77.59230769 77.59230769 77.59230769 77.59230769\n",
      " 77.59230769 77.59230769 77.59230769 77.59230769 77.59230769 77.59230769\n",
      " 77.59230769 77.59230769 77.59230769 77.59230769 77.59230769 77.59230769\n",
      " 77.59230769 77.59230769 77.59230769 77.59230769 77.59230769 77.59230769\n",
      " 77.59230769 77.59230769 77.59230769 77.59230769 77.59230769 77.59230769\n",
      " 77.59230769 77.59230769 77.59230769 77.59230769 77.59230769 77.59230769\n",
      " 77.59230769 77.59230769 77.59230769 77.59230769 77.59230769 77.59230769\n",
      " 77.59230769 77.59230769 77.59230769 77.59230769 77.59230769 77.59230769\n",
      " 77.59230769 77.59230769 77.59230769 77.59230769 77.59230769]\n"
     ]
    }
   ],
   "source": [
    "kf = KFold(n_splits=3,random_state=3,shuffle=True)\n",
    "kf.get_n_splits(x)\n",
    "bestalph = -1\n",
    "for i in range(0,10005,5):\n",
    "    minte = 100\n",
    "    te = 0\n",
    "    tr = 0\n",
    "    for train_index, test_index in kf.split(x):\n",
    "        #print(\"TRAIN:\", train_index, \"TEST:\", test_index)\n",
    "        x_train, x_test = x[train_index], x[test_index]\n",
    "        y_train, y_test = y[train_index], y[test_index]\n",
    "\n",
    "\n",
    "        lasso = Lasso(alpha=i/100)\n",
    "        lasso.fit(x_train, y_train)\n",
    "        y_pred_test = lasso.predict(x_test)\n",
    "        y_pred_train = lasso.predict(x_train)\n",
    "        #print(i/100)\n",
    "        #print(\"Training Error\",mean_squared_error(y_train,y_pred_train))\n",
    "        #plt.scatter(y_pred_test,y_test, color = 'blue')\n",
    "        #plt.xlabel('Prediction')\n",
    "        #plt.ylabel('True Value')\n",
    "        #print(\"Test Error\", mean_squared_error(y_test,y_pred_test))\n",
    "        tr += mean_squared_error(y_train,y_pred_train)\n",
    "        te += mean_squared_error(y_test,y_pred_test)\n",
    "    tr = tr/3\n",
    "    te = te/3\n",
    "    if te < minte:\n",
    "        mintr = tr\n",
    "        minte = te\n",
    "        #print(bestalph)\n",
    "        bestalph = i/100\n",
    "print(tr,minte,bestalph)\n",
    "print(y_pred_test)"
   ]
  },
  {
   "cell_type": "code",
   "execution_count": null,
   "metadata": {},
   "outputs": [],
   "source": []
  }
 ],
 "metadata": {
  "kernelspec": {
   "display_name": "Python 3",
   "language": "python",
   "name": "python3"
  },
  "language_info": {
   "codemirror_mode": {
    "name": "ipython",
    "version": 3
   },
   "file_extension": ".py",
   "mimetype": "text/x-python",
   "name": "python",
   "nbconvert_exporter": "python",
   "pygments_lexer": "ipython3",
   "version": "3.7.2"
  }
 },
 "nbformat": 4,
 "nbformat_minor": 2
}
